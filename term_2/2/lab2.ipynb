{
 "cells": [
  {
   "cell_type": "markdown",
   "id": "fca44089",
   "metadata": {
    "id": "fca44089"
   },
   "source": [
    "# Методы интерпретации нейронных сетей\n",
    "\n",
    "В лабораторной работе предлагается обучить классификатор медицинских изображений на одной из баз MedMNIST (либо другой медицинской базы), применить методы интерпретации нейронных сетей и сопоставить результаты этих методов.\n",
    "\n",
    "Возможен анализ работы предобученной модели нейронной сети, решающей интересную для вас задачу классификации медицинских изображений.\n",
    "\n",
    "Удобно использовать реализации методов интерпретации из библиотеки MONAI, специализованной под медицинские задачи (но можно воспользоваться и другими аналогичными библиотеками).\n",
    "\n",
    "Необходимо исследовать работу обученной нейросетевой модели с помощью методов:\n",
    "- `OcclusionSensitivity`,\n",
    "- `GradCAM++`.\n",
    "\n",
    "\n",
    "Пример обучения нейросетевой модели на MedMNIST из документации:\n",
    "\n",
    "https://github.com/MedMNIST/MedMNIST/blob/main/examples/getting_started.ipynb\n",
    "\n",
    "Примеры использования методов интерпретации из документации проекта MONAI:\n",
    "\n",
    "https://github.com/Project-MONAI/tutorials/blob/main/modules/interpretability/covid_classification.ipynb\n",
    "\n",
    "https://github.com/Project-MONAI/tutorials/blob/main/modules/interpretability/class_lung_lesion.ipynb\n"
   ]
  },
  {
   "cell_type": "markdown",
   "id": "f9be7f40",
   "metadata": {
    "id": "f9be7f40"
   },
   "source": [
    "## Установка зависимостей"
   ]
  },
  {
   "cell_type": "code",
   "execution_count": 2,
   "id": "e247907f",
   "metadata": {
    "colab": {
     "base_uri": "https://localhost:8080/"
    },
    "id": "e247907f",
    "outputId": "c1fac59d-82bf-469b-9845-953e5c1925fe"
   },
   "outputs": [],
   "source": [
    "!python -c \"import monai\" || pip install -q \"monai-weekly[tqdm]\"\n",
    "!python -c \"import matplotlib\" || pip install -q matplotlib\n",
    "!python -c \"import sklearn\" || pip install -q scikit-learn"
   ]
  },
  {
   "cell_type": "code",
   "execution_count": 3,
   "id": "mLkVO9M_l6Hg",
   "metadata": {
    "colab": {
     "base_uri": "https://localhost:8080/"
    },
    "id": "mLkVO9M_l6Hg",
    "outputId": "51fdf8d9-8d42-49a6-f7a0-be3fe6ce68d7"
   },
   "outputs": [
    {
     "name": "stdout",
     "output_type": "stream",
     "text": [
      "Requirement already satisfied: medmnist in /home/ilya/maga/DL/venv/lib/python3.11/site-packages (3.0.1)\n",
      "Requirement already satisfied: numpy in /home/ilya/maga/DL/venv/lib/python3.11/site-packages (from medmnist) (1.26.4)\n",
      "Requirement already satisfied: pandas in /home/ilya/maga/DL/venv/lib/python3.11/site-packages (from medmnist) (2.2.2)\n",
      "Requirement already satisfied: scikit-learn in /home/ilya/maga/DL/venv/lib/python3.11/site-packages (from medmnist) (1.4.2)\n",
      "Requirement already satisfied: scikit-image in /home/ilya/maga/DL/venv/lib/python3.11/site-packages (from medmnist) (0.23.2)\n",
      "Requirement already satisfied: tqdm in /home/ilya/maga/DL/venv/lib/python3.11/site-packages (from medmnist) (4.66.4)\n",
      "Requirement already satisfied: Pillow in /home/ilya/maga/DL/venv/lib/python3.11/site-packages (from medmnist) (10.3.0)\n",
      "Requirement already satisfied: fire in /home/ilya/maga/DL/venv/lib/python3.11/site-packages (from medmnist) (0.6.0)\n",
      "Requirement already satisfied: torch in /home/ilya/maga/DL/venv/lib/python3.11/site-packages (from medmnist) (2.3.0)\n",
      "Requirement already satisfied: torchvision in /home/ilya/maga/DL/venv/lib/python3.11/site-packages (from medmnist) (0.18.0)\n",
      "Requirement already satisfied: six in /home/ilya/maga/DL/venv/lib/python3.11/site-packages (from fire->medmnist) (1.16.0)\n",
      "Requirement already satisfied: termcolor in /home/ilya/maga/DL/venv/lib/python3.11/site-packages (from fire->medmnist) (2.4.0)\n",
      "Requirement already satisfied: python-dateutil>=2.8.2 in /home/ilya/maga/DL/venv/lib/python3.11/site-packages (from pandas->medmnist) (2.9.0.post0)\n",
      "Requirement already satisfied: pytz>=2020.1 in /home/ilya/maga/DL/venv/lib/python3.11/site-packages (from pandas->medmnist) (2024.1)\n",
      "Requirement already satisfied: tzdata>=2022.7 in /home/ilya/maga/DL/venv/lib/python3.11/site-packages (from pandas->medmnist) (2024.1)\n",
      "Requirement already satisfied: scipy>=1.9 in /home/ilya/maga/DL/venv/lib/python3.11/site-packages (from scikit-image->medmnist) (1.13.0)\n",
      "Requirement already satisfied: networkx>=2.8 in /home/ilya/maga/DL/venv/lib/python3.11/site-packages (from scikit-image->medmnist) (3.3)\n",
      "Requirement already satisfied: imageio>=2.33 in /home/ilya/maga/DL/venv/lib/python3.11/site-packages (from scikit-image->medmnist) (2.34.1)\n",
      "Requirement already satisfied: tifffile>=2022.8.12 in /home/ilya/maga/DL/venv/lib/python3.11/site-packages (from scikit-image->medmnist) (2024.5.10)\n",
      "Requirement already satisfied: packaging>=21 in /home/ilya/maga/DL/venv/lib/python3.11/site-packages (from scikit-image->medmnist) (24.0)\n",
      "Requirement already satisfied: lazy-loader>=0.4 in /home/ilya/maga/DL/venv/lib/python3.11/site-packages (from scikit-image->medmnist) (0.4)\n",
      "Requirement already satisfied: joblib>=1.2.0 in /home/ilya/maga/DL/venv/lib/python3.11/site-packages (from scikit-learn->medmnist) (1.4.2)\n",
      "Requirement already satisfied: threadpoolctl>=2.0.0 in /home/ilya/maga/DL/venv/lib/python3.11/site-packages (from scikit-learn->medmnist) (3.5.0)\n",
      "Requirement already satisfied: filelock in /home/ilya/maga/DL/venv/lib/python3.11/site-packages (from torch->medmnist) (3.14.0)\n",
      "Requirement already satisfied: typing-extensions>=4.8.0 in /home/ilya/maga/DL/venv/lib/python3.11/site-packages (from torch->medmnist) (4.11.0)\n",
      "Requirement already satisfied: sympy in /home/ilya/maga/DL/venv/lib/python3.11/site-packages (from torch->medmnist) (1.12)\n",
      "Requirement already satisfied: jinja2 in /home/ilya/maga/DL/venv/lib/python3.11/site-packages (from torch->medmnist) (3.1.4)\n",
      "Requirement already satisfied: fsspec in /home/ilya/maga/DL/venv/lib/python3.11/site-packages (from torch->medmnist) (2024.5.0)\n",
      "Requirement already satisfied: nvidia-cuda-nvrtc-cu12==12.1.105 in /home/ilya/maga/DL/venv/lib/python3.11/site-packages (from torch->medmnist) (12.1.105)\n",
      "Requirement already satisfied: nvidia-cuda-runtime-cu12==12.1.105 in /home/ilya/maga/DL/venv/lib/python3.11/site-packages (from torch->medmnist) (12.1.105)\n",
      "Requirement already satisfied: nvidia-cuda-cupti-cu12==12.1.105 in /home/ilya/maga/DL/venv/lib/python3.11/site-packages (from torch->medmnist) (12.1.105)\n",
      "Requirement already satisfied: nvidia-cudnn-cu12==8.9.2.26 in /home/ilya/maga/DL/venv/lib/python3.11/site-packages (from torch->medmnist) (8.9.2.26)\n",
      "Requirement already satisfied: nvidia-cublas-cu12==12.1.3.1 in /home/ilya/maga/DL/venv/lib/python3.11/site-packages (from torch->medmnist) (12.1.3.1)\n",
      "Requirement already satisfied: nvidia-cufft-cu12==11.0.2.54 in /home/ilya/maga/DL/venv/lib/python3.11/site-packages (from torch->medmnist) (11.0.2.54)\n",
      "Requirement already satisfied: nvidia-curand-cu12==10.3.2.106 in /home/ilya/maga/DL/venv/lib/python3.11/site-packages (from torch->medmnist) (10.3.2.106)\n",
      "Requirement already satisfied: nvidia-cusolver-cu12==11.4.5.107 in /home/ilya/maga/DL/venv/lib/python3.11/site-packages (from torch->medmnist) (11.4.5.107)\n",
      "Requirement already satisfied: nvidia-cusparse-cu12==12.1.0.106 in /home/ilya/maga/DL/venv/lib/python3.11/site-packages (from torch->medmnist) (12.1.0.106)\n",
      "Requirement already satisfied: nvidia-nccl-cu12==2.20.5 in /home/ilya/maga/DL/venv/lib/python3.11/site-packages (from torch->medmnist) (2.20.5)\n",
      "Requirement already satisfied: nvidia-nvtx-cu12==12.1.105 in /home/ilya/maga/DL/venv/lib/python3.11/site-packages (from torch->medmnist) (12.1.105)\n",
      "Requirement already satisfied: triton==2.3.0 in /home/ilya/maga/DL/venv/lib/python3.11/site-packages (from torch->medmnist) (2.3.0)\n",
      "Requirement already satisfied: nvidia-nvjitlink-cu12 in /home/ilya/maga/DL/venv/lib/python3.11/site-packages (from nvidia-cusolver-cu12==11.4.5.107->torch->medmnist) (12.4.127)\n",
      "Requirement already satisfied: MarkupSafe>=2.0 in /home/ilya/maga/DL/venv/lib/python3.11/site-packages (from jinja2->torch->medmnist) (2.1.5)\n",
      "Requirement already satisfied: mpmath>=0.19 in /home/ilya/maga/DL/venv/lib/python3.11/site-packages (from sympy->torch->medmnist) (1.3.0)\n"
     ]
    }
   ],
   "source": [
    "!pip install medmnist"
   ]
  },
  {
   "cell_type": "markdown",
   "id": "640b3b5e",
   "metadata": {
    "id": "640b3b5e"
   },
   "source": [
    "## Импорт библиотек"
   ]
  },
  {
   "cell_type": "code",
   "execution_count": 4,
   "id": "LxsPuUJYqfaD",
   "metadata": {
    "id": "LxsPuUJYqfaD"
   },
   "outputs": [],
   "source": [
    "from tqdm import tqdm\n",
    "import numpy as np\n",
    "import torch\n",
    "import torch.nn as nn\n",
    "import torch.optim as optim\n",
    "import torch.utils.data as data\n",
    "import torchvision.transforms as transforms"
   ]
  },
  {
   "cell_type": "code",
   "execution_count": 5,
   "id": "OKUqYug2pALx",
   "metadata": {
    "id": "OKUqYug2pALx"
   },
   "outputs": [],
   "source": [
    "import medmnist\n",
    "from medmnist import INFO, Evaluator"
   ]
  },
  {
   "cell_type": "code",
   "execution_count": 6,
   "id": "6lN5vq9kRlOg",
   "metadata": {
    "id": "6lN5vq9kRlOg"
   },
   "outputs": [],
   "source": [
    "from monai.config import print_config\n",
    "from matplotlib import pyplot as plt\n",
    "from monai.visualize import GradCAMpp, OcclusionSensitivity"
   ]
  },
  {
   "cell_type": "code",
   "execution_count": 7,
   "id": "SbQbuG9uQWI9",
   "metadata": {
    "colab": {
     "base_uri": "https://localhost:8080/"
    },
    "id": "SbQbuG9uQWI9",
    "outputId": "ff3be988-8689-48ef-d704-4b57eb2dd3d1"
   },
   "outputs": [
    {
     "name": "stdout",
     "output_type": "stream",
     "text": [
      "MONAI version: 1.4.dev2421\n",
      "Numpy version: 1.26.4\n",
      "Pytorch version: 2.3.0+cu121\n",
      "MONAI flags: HAS_EXT = False, USE_COMPILED = False, USE_META_DICT = False\n",
      "MONAI rev id: 1070036ea3c30176fc82cfb15952387bed8b8a90\n",
      "MONAI __file__: /home/<username>/maga/DL/venv/lib/python3.11/site-packages/monai/__init__.py\n",
      "\n",
      "Optional dependencies:\n",
      "Pytorch Ignite version: NOT INSTALLED or UNKNOWN VERSION.\n",
      "ITK version: NOT INSTALLED or UNKNOWN VERSION.\n",
      "Nibabel version: NOT INSTALLED or UNKNOWN VERSION.\n",
      "scikit-image version: 0.23.2\n",
      "scipy version: 1.13.0\n",
      "Pillow version: 10.3.0\n",
      "Tensorboard version: NOT INSTALLED or UNKNOWN VERSION.\n",
      "gdown version: NOT INSTALLED or UNKNOWN VERSION.\n",
      "TorchVision version: 0.18.0+cu121\n",
      "tqdm version: 4.66.4\n",
      "lmdb version: NOT INSTALLED or UNKNOWN VERSION.\n",
      "psutil version: 5.9.8\n",
      "pandas version: 2.2.2\n",
      "einops version: NOT INSTALLED or UNKNOWN VERSION.\n",
      "transformers version: NOT INSTALLED or UNKNOWN VERSION.\n",
      "mlflow version: NOT INSTALLED or UNKNOWN VERSION.\n",
      "pynrrd version: NOT INSTALLED or UNKNOWN VERSION.\n",
      "clearml version: 1.16.1\n",
      "\n",
      "For details about installing the optional dependencies, please visit:\n",
      "    https://docs.monai.io/en/latest/installation.html#installing-the-recommended-dependencies\n",
      "\n"
     ]
    }
   ],
   "source": [
    "device = torch.device(\"cuda\" if torch.cuda.is_available() else \"cpu\")\n",
    "print_config()"
   ]
  },
  {
   "cell_type": "markdown",
   "id": "C0U8OEsUGLoL",
   "metadata": {
    "id": "C0U8OEsUGLoL"
   },
   "source": [
    "## TODO\n",
    "#### Создайте необходимые для обучения, валидации и тестирования объекты классов Dataset, DataLoader"
   ]
  },
  {
   "cell_type": "code",
   "execution_count": 8,
   "id": "b01c1a55-d0ad-4fce-b633-1ff47b985632",
   "metadata": {},
   "outputs": [],
   "source": [
    "from medmnist import DermaMNIST"
   ]
  },
  {
   "cell_type": "code",
   "execution_count": 18,
   "id": "33281269-392f-4f8d-8cef-0fb70f1d275c",
   "metadata": {},
   "outputs": [],
   "source": [
    "NUM_EPOCHS = 10\n",
    "BATCH_SIZE = 64\n",
    "lr = 0.001\n",
    "\n",
    "info = INFO[\"dermamnist\"]\n",
    "task = info[\"task\"]\n",
    "n_channels = info[\"n_channels\"]\n",
    "n_classes = len(info[\"label\"])"
   ]
  },
  {
   "cell_type": "code",
   "execution_count": 9,
   "id": "kCma4BvVFL3Y",
   "metadata": {
    "colab": {
     "base_uri": "https://localhost:8080/"
    },
    "id": "kCma4BvVFL3Y",
    "outputId": "d4c102b1-6304-45db-b236-8d04c1b9fd80"
   },
   "outputs": [
    {
     "name": "stdout",
     "output_type": "stream",
     "text": [
      "Downloading https://zenodo.org/records/10519652/files/dermamnist.npz?download=1 to /home/ilya/.medmnist/dermamnist.npz\n"
     ]
    },
    {
     "name": "stderr",
     "output_type": "stream",
     "text": [
      "100%|█████████████████████████| 19725078/19725078 [00:08<00:00, 2329805.65it/s]\n"
     ]
    },
    {
     "name": "stdout",
     "output_type": "stream",
     "text": [
      "Using downloaded and verified file: /home/ilya/.medmnist/dermamnist.npz\n",
      "Using downloaded and verified file: /home/ilya/.medmnist/dermamnist.npz\n"
     ]
    }
   ],
   "source": [
    "data_transform = transforms.Compose([\n",
    "    transforms.ToTensor(),\n",
    "    transforms.Normalize(mean=[.5], std=[.5])\n",
    "])\n",
    "\n",
    "train_dataset = DermaMNIST(split='train', transform=data_transform, download=True)\n",
    "val_dataset = DermaMNIST(split='val', transform=data_transform, download=True)\n",
    "test_dataset = DermaMNIST(split='test', transform=data_transform, download=True)"
   ]
  },
  {
   "cell_type": "code",
   "execution_count": 11,
   "id": "9GfJNOkQFQUA",
   "metadata": {
    "id": "9GfJNOkQFQUA"
   },
   "outputs": [],
   "source": [
    "train_loader = data.DataLoader(dataset=train_dataset, batch_size=BATCH_SIZE, shuffle=True)\n",
    "val_loader = data.DataLoader(dataset=val_dataset, batch_size=BATCH_SIZE, shuffle=False)\n",
    "test_loader = data.DataLoader(dataset=test_dataset, batch_size=BATCH_SIZE, shuffle=False)"
   ]
  },
  {
   "cell_type": "markdown",
   "id": "489ImHnSGnJU",
   "metadata": {
    "id": "489ImHnSGnJU"
   },
   "source": [
    "## TODO\n",
    "#### Создайте объекты классов модели (самостоятельно задав архитектуру сети либо выбрав готовую модель), функции потерь, оптимизатора"
   ]
  },
  {
   "cell_type": "code",
   "execution_count": 12,
   "id": "Adf3tYu9E8Dr",
   "metadata": {
    "id": "Adf3tYu9E8Dr"
   },
   "outputs": [],
   "source": [
    "class Net(nn.Module):\n",
    "    def __init__(self, in_channels, num_classes):\n",
    "        super(Net, self).__init__()\n",
    "\n",
    "        self.layer1 = nn.Sequential(\n",
    "            nn.Conv2d(in_channels, 16, kernel_size=3),\n",
    "            nn.BatchNorm2d(16),\n",
    "            nn.ReLU())\n",
    "\n",
    "        self.layer2 = nn.Sequential(\n",
    "            nn.Conv2d(16, 16, kernel_size=3),\n",
    "            nn.BatchNorm2d(16),\n",
    "            nn.ReLU(),\n",
    "            nn.MaxPool2d(kernel_size=2, stride=2))\n",
    "\n",
    "        self.layer3 = nn.Sequential(\n",
    "            nn.Conv2d(16, 64, kernel_size=3),\n",
    "            nn.BatchNorm2d(64),\n",
    "            nn.ReLU())\n",
    "\n",
    "        self.layer4 = nn.Sequential(\n",
    "            nn.Conv2d(64, 64, kernel_size=3),\n",
    "            nn.BatchNorm2d(64),\n",
    "            nn.ReLU())\n",
    "\n",
    "        self.layer5 = nn.Sequential(\n",
    "            nn.Conv2d(64, 64, kernel_size=3, padding=1),\n",
    "            nn.BatchNorm2d(64),\n",
    "            nn.ReLU(),\n",
    "            nn.MaxPool2d(kernel_size=2, stride=2))\n",
    "\n",
    "        self.fc = nn.Sequential(\n",
    "            nn.Linear(64 * 4 * 4, 128),\n",
    "            nn.ReLU(),\n",
    "            nn.Linear(128, 128),\n",
    "            nn.ReLU(),\n",
    "            nn.Linear(128, num_classes))\n",
    "\n",
    "    def forward(self, x):\n",
    "        x = self.layer1(x)\n",
    "        x = self.layer2(x)\n",
    "        x = self.layer3(x)\n",
    "        x = self.layer4(x)\n",
    "        x = self.layer5(x)\n",
    "        x = x.view(x.size(0), -1)\n",
    "        x = self.fc(x)\n",
    "        return x"
   ]
  },
  {
   "cell_type": "code",
   "execution_count": 19,
   "id": "4q3QsAsCF0E9",
   "metadata": {
    "id": "4q3QsAsCF0E9"
   },
   "outputs": [],
   "source": [
    "model = Net(in_channels=n_channels, num_classes=n_classes)\n",
    "\n",
    "if task == \"multi-label, binary-class\":\n",
    "    criterion = nn.BCEWithLogitsLoss()\n",
    "else:\n",
    "    criterion = nn.CrossEntropyLoss()\n",
    "\n",
    "optimizer = torch.optim.Adam(model.parameters(), lr=lr, betas = (0.5, 0.999))"
   ]
  },
  {
   "cell_type": "markdown",
   "id": "5a1OFZfHIdp8",
   "metadata": {
    "id": "5a1OFZfHIdp8"
   },
   "source": [
    "## TODO\n",
    "#### Обучите модель, реализовав циклы обучения и валидации"
   ]
  },
  {
   "cell_type": "code",
   "execution_count": 20,
   "id": "40zwZv9HqZDd",
   "metadata": {
    "colab": {
     "base_uri": "https://localhost:8080/"
    },
    "id": "40zwZv9HqZDd",
    "outputId": "9c2ff54d-b031-4663-f242-19b126e8c870"
   },
   "outputs": [
    {
     "name": "stderr",
     "output_type": "stream",
     "text": [
      "100%|████████████████████████████████████████| 110/110 [00:02<00:00, 44.50it/s]\n",
      "100%|████████████████████████████████████████| 110/110 [00:02<00:00, 42.00it/s]\n",
      "100%|████████████████████████████████████████| 110/110 [00:02<00:00, 43.43it/s]\n",
      "100%|████████████████████████████████████████| 110/110 [00:02<00:00, 43.78it/s]\n",
      "100%|████████████████████████████████████████| 110/110 [00:02<00:00, 43.28it/s]\n",
      "100%|████████████████████████████████████████| 110/110 [00:02<00:00, 43.47it/s]\n",
      "100%|████████████████████████████████████████| 110/110 [00:02<00:00, 43.89it/s]\n",
      "100%|████████████████████████████████████████| 110/110 [00:02<00:00, 42.33it/s]\n",
      "100%|████████████████████████████████████████| 110/110 [00:02<00:00, 44.74it/s]\n",
      "100%|████████████████████████████████████████| 110/110 [00:02<00:00, 46.08it/s]\n"
     ]
    }
   ],
   "source": [
    "for epoch in range(NUM_EPOCHS):\n",
    "    train_correct = 0\n",
    "    train_total = 0\n",
    "    test_correct = 0\n",
    "    test_total = 0\n",
    "\n",
    "    model.train()\n",
    "    for inputs, targets in tqdm(train_loader):\n",
    "        optimizer.zero_grad()\n",
    "        outputs = model(inputs)\n",
    "\n",
    "        if task == \"multi-label, binary-class\":\n",
    "            targets = targets.to(torch.float32)\n",
    "            loss = criterion(outputs, targets)\n",
    "        else:\n",
    "            targets = targets.squeeze().long()\n",
    "            loss = criterion(outputs, targets)\n",
    "\n",
    "        loss.backward()\n",
    "        optimizer.step()"
   ]
  },
  {
   "cell_type": "code",
   "execution_count": 27,
   "id": "p_0kFDxiIks7",
   "metadata": {
    "colab": {
     "base_uri": "https://localhost:8080/"
    },
    "id": "p_0kFDxiIks7",
    "outputId": "de67a452-ff94-4b6f-df4a-ede0bcc99d11"
   },
   "outputs": [
    {
     "name": "stdout",
     "output_type": "stream",
     "text": [
      "test  auc: 0.917  acc:0.760\n"
     ]
    }
   ],
   "source": [
    "def test(split):\n",
    "    model.eval()\n",
    "    y_true = torch.tensor([])\n",
    "    y_score = torch.tensor([])\n",
    "\n",
    "    data_loader = test_loader\n",
    "\n",
    "    with torch.no_grad():\n",
    "        for inputs, targets in data_loader:\n",
    "            outputs = model(inputs)\n",
    "\n",
    "            if task == \"multi-label, binary-class\":\n",
    "                targets = targets.to(torch.float32)\n",
    "                outputs = outputs.softmax(dim=-1)\n",
    "            else:\n",
    "                targets = targets.squeeze().long()\n",
    "                outputs = outputs.softmax(dim=-1)\n",
    "                targets = targets.float().resize_(len(targets), 1)\n",
    "\n",
    "            y_true = torch.cat((y_true, targets), 0)\n",
    "            y_score = torch.cat((y_score, outputs), 0)\n",
    "\n",
    "        y_true = y_true.numpy()\n",
    "        y_score = y_score.detach().numpy()\n",
    "\n",
    "        evaluator = Evaluator(data_flag, split)\n",
    "        metrics = evaluator.evaluate(y_score)\n",
    "\n",
    "        print(\"%s  auc: %.3f  acc:%.3f\" % (split, *metrics))\n",
    "\n",
    "\n",
    "test(\"test\")"
   ]
  },
  {
   "cell_type": "markdown",
   "id": "2958a455",
   "metadata": {
    "id": "2958a455"
   },
   "source": [
    "# Интерпретируемость\n",
    "\n",
    "Необходимо сравнить разные методы интерпретации.\n",
    "\n",
    "## Чувствительность к окклюзии (Occlusion sensitivity)\n",
    "В этом методе интерпретации последовательно перекрывается часть изображения, а затем отслеживается изменение в предсказанной вероятности предполагаемого класса. Ожидается, что вероятность будет больше снижаться при перекрытии важных частей изображения. Следовательно, синие части изображения характеризуются большей важностью.\n",
    "\n",
    "\n",
    "## GradCAM\n",
    "Пользователь выбирает слой сети, который его интересует, и для этого слоя выполняется оценка значимости областей. Обычно выбирается слой из числа последних, так как предполагается, что к этому моменту будут извлечены все необходимые признаки. В сверточных нейронных сетях карты признаков многократно подвергаются уменьшению, поэтому результирующее изображение карты значимости масштабируется в соответствии с размером входного изображения. Как и в случае с чувствительностью к окклюзии, синие участки изображения характеризуются большей важностью для процесса принятия решений.\n",
    "\n",
    "\n",
    "В отличие от MONAI, в других реализациях методов интерпретации чаще красные оттенки областей соответствуют большим значимостям.\n",
    "\n",
    "Хорошее объяснение CAM и GradCAM:\n",
    "\n",
    "https://glassboxmedicine.com/2019/06/11/cnn-heat-maps-class-activation-mapping-cam/\n",
    "\n",
    "https://glassboxmedicine.com/2020/05/29/grad-cam-visual-explanations-from-deep-networks/"
   ]
  },
  {
   "cell_type": "code",
   "execution_count": 28,
   "id": "9d217917",
   "metadata": {
    "id": "9d217917"
   },
   "outputs": [],
   "source": [
    "target_layer = \"layer5\"\n",
    "gradcampp = GradCAMpp(model, target_layers=target_layer)\n",
    "occ_sens = OcclusionSensitivity(\n",
    "    model,\n",
    "    mask_size=3,\n",
    "    n_batch=16,\n",
    "    overlap=0.75,\n",
    "    verbose=False,\n",
    ")"
   ]
  },
  {
   "cell_type": "code",
   "execution_count": 29,
   "id": "16E_HIcqZeCX",
   "metadata": {
    "colab": {
     "base_uri": "https://localhost:8080/"
    },
    "id": "16E_HIcqZeCX",
    "outputId": "8e0fb120-165c-481c-af49-54be4d5b8dd3"
   },
   "outputs": [
    {
     "data": {
      "text/plain": [
       "{'0': 'actinic keratoses and intraepithelial carcinoma',\n",
       " '1': 'basal cell carcinoma',\n",
       " '2': 'benign keratosis-like lesions',\n",
       " '3': 'dermatofibroma',\n",
       " '4': 'melanoma',\n",
       " '5': 'melanocytic nevi',\n",
       " '6': 'vascular lesions'}"
      ]
     },
     "execution_count": 29,
     "metadata": {},
     "output_type": "execute_result"
    }
   ],
   "source": [
    "info['label']"
   ]
  },
  {
   "cell_type": "code",
   "execution_count": 30,
   "id": "a960eb4f",
   "metadata": {
    "id": "a960eb4f"
   },
   "outputs": [],
   "source": [
    "def saliency(model, d):\n",
    "    ims = []\n",
    "\n",
    "    img = torch.as_tensor(d[0].unsqueeze(0)).to('cpu')\n",
    "\n",
    "    pred_logits = model(img)\n",
    "    pred_label = pred_logits.argmax(dim=1).item()\n",
    "    pred_prob = int(torch.nn.functional.softmax(pred_logits, dim=1)[0, pred_label].item() * 100)\n",
    "    # Image\n",
    "    ims.append(img[0])\n",
    "\n",
    "    gt_label = int(d[1][0])\n",
    "    massage = f\"GT: {info['label'][str(gt_label)]}, \"\n",
    "    massage += f\"pred: {info['label'][str(pred_label)]} ({pred_prob}%)\"\n",
    "    print(massage)\n",
    "\n",
    "    # Occlusion sensitivity images\n",
    "    occ_map, _ = occ_sens(img)\n",
    "    ims.append(occ_map[0, pred_label][None])\n",
    "\n",
    "    # GradCAM\n",
    "    res_cam_pp = gradcampp(x=img, class_idx=pred_label)[0]\n",
    "    ims.append(res_cam_pp)\n",
    "\n",
    "    return ims"
   ]
  },
  {
   "cell_type": "code",
   "execution_count": 31,
   "id": "9030b675",
   "metadata": {
    "colab": {
     "base_uri": "https://localhost:8080/",
     "height": 1000
    },
    "id": "9030b675",
    "outputId": "c6645fcc-5d54-48cb-b002-cf0fd7971e7c"
   },
   "outputs": [
    {
     "name": "stdout",
     "output_type": "stream",
     "text": [
      "GT: vascular lesions, pred: vascular lesions (91%)\n"
     ]
    },
    {
     "data": {
      "image/png": "[encoded data removed]",
      "text/plain": [
       "<Figure size 640x480 with 3 Axes>"
      ]
     },
     "metadata": {},
     "output_type": "display_data"
    },
    {
     "name": "stdout",
     "output_type": "stream",
     "text": [
      "GT: actinic keratoses and intraepithelial carcinoma, pred: basal cell carcinoma (91%)\n"
     ]
    },
    {
     "data": {
      "image/png": "[encoded data removed]",
      "text/plain": [
       "<Figure size 640x480 with 3 Axes>"
      ]
     },
     "metadata": {},
     "output_type": "display_data"
    },
    {
     "name": "stdout",
     "output_type": "stream",
     "text": [
      "GT: melanocytic nevi, pred: melanocytic nevi (92%)\n"
     ]
    },
    {
     "data": {
      "image/png": "[encoded data removed]",
      "text/plain": [
       "<Figure size 640x480 with 3 Axes>"
      ]
     },
     "metadata": {},
     "output_type": "display_data"
    },
    {
     "name": "stdout",
     "output_type": "stream",
     "text": [
      "GT: melanocytic nevi, pred: melanocytic nevi (51%)\n"
     ]
    },
    {
     "data": {
      "image/png": "[encoded data removed]",
      "text/plain": [
       "<Figure size 640x480 with 3 Axes>"
      ]
     },
     "metadata": {},
     "output_type": "display_data"
    },
    {
     "name": "stdout",
     "output_type": "stream",
     "text": [
      "GT: melanocytic nevi, pred: melanocytic nevi (96%)\n"
     ]
    },
    {
     "data": {
      "image/png": "[encoded data removed]",
      "text/plain": [
       "<Figure size 640x480 with 3 Axes>"
      ]
     },
     "metadata": {},
     "output_type": "display_data"
    }
   ],
   "source": [
    "rnd_idxs = np.random.randint(0, high=len(test_dataset), size=5)\n",
    "\n",
    "for idx in rnd_idxs:\n",
    "    f, (ax1, ax2, ax3) = plt.subplots(1, 3)\n",
    "\n",
    "    d = test_dataset[idx]\n",
    "\n",
    "    ims = saliency(model, d)\n",
    "\n",
    "    im = ims[0].detach().cpu().numpy().transpose(1, 2, 0)\n",
    "    im = im * 0.5 + 0.5\n",
    "    ax1.imshow(im)\n",
    "    ax1.axis(\"off\")\n",
    "\n",
    "    im = ims[1].detach().cpu().numpy().transpose(1, 2, 0)\n",
    "    ax2.imshow(im, \"jet\")\n",
    "    ax2.set_title(\"Occ. sens.\")\n",
    "    ax2.axis(\"off\")\n",
    "\n",
    "    im = ims[2].detach().cpu().numpy().transpose(1, 2, 0)\n",
    "    ax3.imshow(im, \"jet\")\n",
    "    ax3.set_title(\"GradCAMpp\")\n",
    "    ax3.axis(\"off\")\n",
    "    plt.show()"
   ]
  },
  {
   "cell_type": "code",
   "execution_count": null,
   "id": "b3b2df5f-2369-4ed2-b414-f66b2cd46185",
   "metadata": {},
   "outputs": [],
   "source": []
  }
 ],
 "metadata": {
  "accelerator": "GPU",
  "colab": {
   "gpuType": "T4",
   "provenance": []
  },
  "kernelspec": {
   "display_name": "Python 3 (ipykernel)",
   "language": "python",
   "name": "python3"
  },
  "language_info": {
   "codemirror_mode": {
    "name": "ipython",
    "version": 3
   },
   "file_extension": ".py",
   "mimetype": "text/x-python",
   "name": "python",
   "nbconvert_exporter": "python",
   "pygments_lexer": "ipython3",
   "version": "3.11.8"
  }
 },
 "nbformat": 4,
 "nbformat_minor": 5
}
